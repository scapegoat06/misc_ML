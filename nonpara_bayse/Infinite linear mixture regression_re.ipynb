{
 "cells": [
  {
   "cell_type": "code",
   "execution_count": 2,
   "metadata": {
    "collapsed": true
   },
   "outputs": [],
   "source": [
    "#coding:utf-8\n",
    "import numpy as np\n",
    "import scipy.stats as sp_stats\n",
    "import matplotlib.pyplot as plt\n",
    "from tqdm import tqdm"
   ]
  },
  {
   "cell_type": "code",
   "execution_count": 3,
   "metadata": {
    "scrolled": false
   },
   "outputs": [
    {
     "data": {
      "image/png": "[encoded data removed]",
      "text/plain": [
       "<matplotlib.figure.Figure at 0x111dd4ac8>"
      ]
     },
     "metadata": {},
     "output_type": "display_data"
    }
   ],
   "source": [
    "x = np.arange(0,90,1.0)\n",
    "\n",
    "def yt(t,noise):\n",
    "    ut = 0\n",
    "    if 1 <= t <= 30:\n",
    "        if noise:\n",
    "            ut = np.random.normal(0,0.3)\n",
    "        return 1+0.5*t+ut\n",
    "    elif 31<= t <= 60:\n",
    "        if noise:\n",
    "            ut = np.random.normal(0,0.1)\n",
    "        return 25-0.3*t+ut\n",
    "    else:\n",
    "        if noise:\n",
    "            ut = np.random.normal(0,0.2)\n",
    "        return 1+0.1*t+ut\n",
    "    \"\"\"\n",
    "    if 0 <= t <= 45:\n",
    "        if noise:\n",
    "            ut = np.random.normal(0,0.3)\n",
    "        return 1+0.5*t+ut\n",
    "    elif 46 <= t <= 90:\n",
    "        if noise:\n",
    "            ut = np.random.normal(0,0.1)\n",
    "        return 1.0*t-22.5+ut\n",
    "    \"\"\"\n",
    "    \"\"\"\n",
    "    if noise:\n",
    "        ut = np.random.normal(0,0.1)\n",
    "    return -0.5*t+100+ut\n",
    "    \"\"\"\n",
    "y = [yt(xx,True) for xx in x]\n",
    "y_true = [yt(xx,False) for xx in x]\n",
    "plt.plot(x,y,\".\")\n",
    "plt.plot(x,y_true)\n",
    "plt.show()"
   ]
  },
  {
   "cell_type": "code",
   "execution_count": 4,
   "metadata": {
    "collapsed": true
   },
   "outputs": [],
   "source": [
    "#データに定数項を吸収させる\n",
    "xt = np.array([[xx,1] for xx in x])\n"
   ]
  },
  {
   "cell_type": "code",
   "execution_count": 5,
   "metadata": {
    "collapsed": true
   },
   "outputs": [],
   "source": [
    "class ILMM:\n",
    "    def __init__(self,mu0,V0,Sigma0,n0,tau0,m0,nu0,alpha):\n",
    "        \"\"\"const\"\"\"\n",
    "        \n",
    "        #mu prior\n",
    "        self.mu0 = mu0\n",
    "        self.V0 = V0\n",
    "        self.invV0 = np.linalg.inv(self.V0)\n",
    "        \n",
    "        #Sigma prior\n",
    "        self.nu0 = nu0\n",
    "        self.Sigma0 = Sigma0\n",
    "        self.invSigma0 = np.linalg.inv(Sigma0)\n",
    "        \n",
    "        \n",
    "        #sigma_k prioir\n",
    "        self.n0 = n0\n",
    "        ##tau piror\n",
    "        self.m0 = m0\n",
    "        self.tau0 = tau0\n",
    "    \n",
    "        \n",
    "        self.alpha = alpha\n",
    "        \n",
    "    \n",
    "    def sampling_z(self):\n",
    "        for t in range(self.N):\n",
    "            old_k = self.z[t]\n",
    "            if old_k != -1:\n",
    "                if self.n[old_k] == 1:\n",
    "                    del self.n[old_k]\n",
    "                    del self.Tau[old_k]\n",
    "                    del self.theta[old_k]\n",
    "                    del self.sigma[old_k]\n",
    "                else:\n",
    "                    self.n[old_k] -= 1\n",
    "                    self.Tau[old_k].remove(t)\n",
    "            \n",
    "            p_z = []\n",
    "            classes = {}\n",
    "            _k = 0\n",
    "            for k in self.n:\n",
    "                if k==self.new_class:\n",
    "                    theta = self.sample_gauss(self.mu,self.Sigma)\n",
    "                    sigma = self.sample_invGamma(self.n0/2.,self.tau/2.)\n",
    "                    pi = self.alpha\n",
    "                    new_theta = theta.copy()\n",
    "                    new_sigma = sigma.copy()\n",
    "                \n",
    "                else:\n",
    "                    theta = self.theta[k]\n",
    "                    sigma = self.sigma[k]\n",
    "                    pi = self.n[k]\n",
    "                p_z.append(self._Gaussian_pdf(self.y[t],sum(theta*self.x[t]),sigma)*pi)\n",
    "                classes[_k] = k\n",
    "                _k += 1\n",
    "            \n",
    "            p_z = np.array(p_z)\n",
    "            p_z = p_z/p_z.sum()\n",
    "            new_k = classes[np.random.multinomial(1,p_z,size=1).argmax()]\n",
    "            self.z[t] = new_k\n",
    "            self.n[new_k] += 1\n",
    "            self.Tau[new_k] += [t]    \n",
    "            \n",
    "            if new_k == self.new_class:\n",
    "                self.theta[self.new_class] = new_theta\n",
    "                self.sigma[self.new_class] = new_sigma\n",
    "                j = 0\n",
    "                while True:\n",
    "                    if not j in self.n:\n",
    "                        self.Tau[j] = []\n",
    "                        self.n[j] = 0\n",
    "                        self.new_class = j\n",
    "                        break\n",
    "                    j += 1\n",
    "        \n",
    "    def sampling_theta(self):\n",
    "        for k in self.n:\n",
    "            if k != self.new_class:\n",
    "                tmp1 = np.zeros((2,2))\n",
    "                tmp2 = np.zeros((2))\n",
    "                for t in self.Tau[k]:\n",
    "                    tmp1 += (self.x[t][:,np.newaxis]@self.x[t][:,np.newaxis].T)/self.sigma[k]  \n",
    "                    tmp2 += (self.y[t]*self.x[t])/self.sigma[k]\n",
    "                \n",
    "                Sigma_k =  np.linalg.inv(tmp1+self.invSigma)\n",
    "                \n",
    "                mu_k = Sigma_k@(tmp2 + self.invSigma@self.mu)\n",
    "                self.theta[k] = self.sample_gauss(mu_k,Sigma_k)\n",
    "    \n",
    "    def sampling_sigma(self):\n",
    "        for k in self.n:\n",
    "            if k != self.new_class:\n",
    "                tauk = self.tau\n",
    "                for t in self.Tau[k]:\n",
    "                    tauk += (self.y[t]-self.theta[k].T@self.x[t])**2\n",
    "                self.sigma[k] = self.sample_invGamma((self.n0+self.n[k])/2.,tauk/2.)\n",
    "\n",
    "    \n",
    "    def sampling_mu(self):\n",
    "        invV_plus = (len(self.Tau)-1)*self.invSigma+self.invV0\n",
    "        V_plus = np.linalg.inv(invV_plus)\n",
    "        \n",
    "        tmp3 = np.zeros(2)\n",
    "        for k in self.n:\n",
    "            if k != self.new_class:\n",
    "                tmp3 += self.theta[k]\n",
    "        mu_plus = V_plus@(self.invSigma@tmp3+self.invV0@self.mu0)\n",
    "        \n",
    "        self.mu = self.sample_gauss(mu_plus,V_plus)\n",
    "    \n",
    "    def sampling_Sigma(self):\n",
    "        #ν+:1次元\n",
    "        nu_plus = self.nu0 + len(self.Tau)-1\n",
    "        \n",
    "        #Σ+:2*2次元\n",
    "        tmp4 = np.zeros((2,2))\n",
    "        for k in self.n:\n",
    "            if k!= self.new_class:\n",
    "                tmptmp = (self.theta[k]-self.mu)[:,np.newaxis]\n",
    "                tmp4 += tmptmp@tmptmp.T\n",
    "        Sigma_plus = np.linalg.inv(self.invSigma0+tmp4)\n",
    "        \n",
    "    \n",
    "        self.invSigma = self.sample_Wishart(nu_plus,Sigma_plus)\n",
    "        self.Sigma = np.linalg.inv(self.invSigma)\n",
    "        \n",
    "    def sampling_tau(self):\n",
    "        #m+:1次元\n",
    "        m_plus = self.m0 + self.n0*(len(self.Tau)-1)\n",
    "        \n",
    "        #τ:1次元\n",
    "        tau_plus = self.tau0 \n",
    "        for k in self.n:\n",
    "            if k != self.new_class:\n",
    "                tau_plus += 1./self.sigma[k]\n",
    "                \n",
    "        self.tau = self.sample_Gamma(m_plus/2.,tau_plus/2.)\n",
    "      \n",
    "    def _Gaussian_pdf(self,x,mu,Sigma):\n",
    "        return np.exp(-0.5/Sigma*(x-mu)**2)/np.sqrt(2*Sigma*np.pi) # not normalized\n",
    "        #return sp_stats.norm.pdf(x,mu,np.sqrt(Sigma))\n",
    "    \n",
    "    def sample_gauss(self, mu, Sigma):\n",
    "        return np.random.multivariate_normal(mean=mu,cov=Sigma)\n",
    "        \n",
    "    def sample_invGamma(self,a,b):\n",
    "        ig = sp_stats.invgamma(a,b)\n",
    "        return ig.rvs(1)[0]\n",
    "    \n",
    "    def sample_Gamma(self, a, b):\n",
    "        g = sp_stats.gamma(a,b)\n",
    "        return g.rvs(1)[0]\n",
    "    \n",
    "    def sample_Wishart(self, nu, Sigma):\n",
    "        w = sp_stats.wishart(df = nu, scale = Sigma)\n",
    "        return w.rvs(1)\n",
    "    \n",
    "    def inference(self):\n",
    "        self.sampling_z()\n",
    "        self.sampling_theta()\n",
    "        self.sampling_sigma()\n",
    "        self.sampling_mu()\n",
    "        self.sampling_Sigma()\n",
    "        self.sampling_tau()\n",
    "                           \n",
    "    \n",
    "    def fit(self,x,y):\n",
    "        #dynamic_variable\n",
    "        self.x = x\n",
    "        self.y = y\n",
    "        \n",
    "        self.N = self.x.shape[0]\n",
    "        self.D = self.x.shape[1]\n",
    "        print(self.N,self.D)\n",
    "        \n",
    "        \n",
    "        self.z = np.ones(self.N)*(-1)\n",
    "        self.new_class = 0\n",
    "        self.n = {self.new_class:0}\n",
    "        self.Tau = {self.new_class:[]}\n",
    "        \n",
    "        self.invSigma = self.sample_Wishart(self.nu0,self.Sigma0)\n",
    "        self.Sigma = np.linalg.inv(self.invSigma)\n",
    "        \n",
    "        self.tau = self.sample_Gamma(self.m0/2.,self.tau0/2.)\n",
    "        self.mu = self.sample_gauss(self.mu0,self.V0)\n",
    "        \n",
    "        self.theta = {}\n",
    "        self.sigma = {}\n",
    "        \n",
    "        \n",
    "        \n",
    "        "
   ]
  },
  {
   "cell_type": "code",
   "execution_count": 6,
   "metadata": {},
   "outputs": [
    {
     "name": "stdout",
     "output_type": "stream",
     "text": [
      "90 2\n"
     ]
    }
   ],
   "source": [
    "model = ILMM(mu0 = np.array([0,0]),\n",
    "             V0 = np.eye(2),\n",
    "             Sigma0 = np.eye(2),\n",
    "             n0 = 2.0,\n",
    "             tau0 = 2.0,\n",
    "             m0 = 2.0,\n",
    "             nu0 = 3.0,\n",
    "             alpha = 0.5)\n",
    "model.fit(xt,y)"
   ]
  },
  {
   "cell_type": "code",
   "execution_count": 7,
   "metadata": {
    "scrolled": true
   },
   "outputs": [
    {
     "name": "stderr",
     "output_type": "stream",
     "text": [
      "100%|██████████| 5000/5000 [10:57<00:00,  7.99it/s]\n"
     ]
    }
   ],
   "source": [
    "for i in tqdm(range(5000)):\n",
    "    model.inference()\n",
    "    "
   ]
  },
  {
   "cell_type": "code",
   "execution_count": 8,
   "metadata": {
    "scrolled": false
   },
   "outputs": [
    {
     "data": {
      "text/plain": [
       "{0: 20, 1: 8, 2: 25, 3: 1, 4: 16, 5: 17, 6: 0, 8: 3}"
      ]
     },
     "execution_count": 8,
     "metadata": {},
     "output_type": "execute_result"
    }
   ],
   "source": [
    "model.n"
   ]
  },
  {
   "cell_type": "code",
   "execution_count": 9,
   "metadata": {
    "scrolled": false
   },
   "outputs": [
    {
     "data": {
      "text/plain": [
       "array([ 0.,  0.,  0.,  2.,  5.,  4.,  5.,  5.,  0.,  1.,  0.,  2.,  4.,\n",
       "        4.,  5.,  5.,  2.,  2.,  0.,  0.,  2.,  1.,  2.,  4.,  2.,  5.,\n",
       "        4.,  5.,  5.,  5.,  5.,  0.,  5.,  0.,  4.,  5.,  0.,  0.,  2.,\n",
       "        3.,  4.,  5.,  2.,  8.,  5.,  4.,  5.,  4.,  5.,  2.,  2.,  0.,\n",
       "        2.,  0.,  5.,  8.,  4.,  2.,  1.,  8.,  0.,  2.,  0.,  4.,  2.,\n",
       "        1.,  0.,  2.,  2.,  4.,  2.,  0.,  1.,  2.,  1.,  2.,  4.,  0.,\n",
       "        2.,  0.,  1.,  2.,  4.,  2.,  4.,  4.,  1.,  0.,  2.,  2.])"
      ]
     },
     "execution_count": 9,
     "metadata": {},
     "output_type": "execute_result"
    }
   ],
   "source": [
    "model.z"
   ]
  },
  {
   "cell_type": "code",
   "execution_count": 10,
   "metadata": {
    "scrolled": true
   },
   "outputs": [
    {
     "data": {
      "text/plain": [
       "{0: [0,\n",
       "  1,\n",
       "  2,\n",
       "  8,\n",
       "  10,\n",
       "  18,\n",
       "  19,\n",
       "  31,\n",
       "  33,\n",
       "  36,\n",
       "  37,\n",
       "  51,\n",
       "  53,\n",
       "  60,\n",
       "  62,\n",
       "  66,\n",
       "  71,\n",
       "  77,\n",
       "  79,\n",
       "  87],\n",
       " 1: [9, 21, 58, 65, 72, 74, 80, 86],\n",
       " 2: [3,\n",
       "  11,\n",
       "  16,\n",
       "  17,\n",
       "  20,\n",
       "  22,\n",
       "  24,\n",
       "  38,\n",
       "  42,\n",
       "  49,\n",
       "  50,\n",
       "  52,\n",
       "  57,\n",
       "  61,\n",
       "  64,\n",
       "  67,\n",
       "  68,\n",
       "  70,\n",
       "  73,\n",
       "  75,\n",
       "  78,\n",
       "  81,\n",
       "  83,\n",
       "  88,\n",
       "  89],\n",
       " 3: [39],\n",
       " 4: [5, 12, 13, 23, 26, 34, 40, 45, 47, 56, 63, 69, 76, 82, 84, 85],\n",
       " 5: [4, 6, 7, 14, 15, 25, 27, 28, 29, 30, 32, 35, 41, 44, 46, 48, 54],\n",
       " 6: [],\n",
       " 8: [43, 55, 59]}"
      ]
     },
     "execution_count": 10,
     "metadata": {},
     "output_type": "execute_result"
    }
   ],
   "source": [
    "model.Tau"
   ]
  },
  {
   "cell_type": "code",
   "execution_count": 11,
   "metadata": {
    "collapsed": true
   },
   "outputs": [],
   "source": [
    "clusters=[]\n",
    "color_index=[]\n",
    "for key in model.Tau.keys():\n",
    "    clusters.append(model.Tau[key])\n",
    "    color_index.append(key)\n",
    "    "
   ]
  },
  {
   "cell_type": "code",
   "execution_count": 12,
   "metadata": {
    "scrolled": false
   },
   "outputs": [
    {
     "data": {
      "image/png": "[encoded data removed]",
      "text/plain": [
       "<matplotlib.figure.Figure at 0x1152e0ef0>"
      ]
     },
     "metadata": {},
     "output_type": "display_data"
    }
   ],
   "source": [
    "color_list = [\"red\", \"green\", \"blue\", \"cyan\", \"magenta\", \"yellow\", \"k\",\"w\"]\n",
    "for i,clu in enumerate(clusters[:8]):\n",
    "    plt.scatter(clu,[y[i] for i in clu],c=color_list[i])\n",
    "plt.show()"
   ]
  },
  {
   "cell_type": "markdown",
   "metadata": {},
   "source": [
    "傾き 0.5 切片1  \n",
    "傾き-0.3 切片25  \n",
    "傾き 0.1 切片1  \n",
    "    "
   ]
  },
  {
   "cell_type": "code",
   "execution_count": 13,
   "metadata": {
    "scrolled": true
   },
   "outputs": [
    {
     "name": "stdout",
     "output_type": "stream",
     "text": [
      "[ 0.15342922  1.98349709] red 20\n",
      "[ 0.07897136  1.75924905] green 8\n",
      "[ 0.07151976  2.43619369] blue 25\n",
      "[ 0.10587349  1.93318947] cyan 16\n",
      "[ 0.00254307  2.17431018] magenta 3\n",
      "[ 0.31891174  2.15275279] yellow 17\n",
      "[ 0.1771724   2.51665438] k 1\n"
     ]
    }
   ],
   "source": [
    "for key in model.theta.keys():\n",
    "    print(model.theta[key],color_list[color_index.index(key)],model.n[key])"
   ]
  },
  {
   "cell_type": "code",
   "execution_count": 14,
   "metadata": {},
   "outputs": [
    {
     "name": "stdout",
     "output_type": "stream",
     "text": [
      "{0: 224.67082467761441, 1: 44.377696968421063, 2: 225.94859416181623, 4: 198.01612238610184, 8: 83.479270531091714, 5: 153.99460194385912, 3: 11.918750778766546}\n",
      "1.08343959983 1.98349708631 224.670824678\n",
      "[0.026615628504216726, 0.059886328145877361, 0.11555658436570967, 0.02835043911138202, 0.032148248526978701]\n",
      "1.3730363455 2.13692630318 224.670824678\n",
      "[0.026615628504216726, 0.059886328145877361, 0.11555658436570967, 0.02835043911138202, 0.032148248526978701]\n",
      "1.73975848876 2.29035552004 224.670824678\n",
      "[0.026615628504216726, 0.059886328145877361, 0.11555658436570967, 0.02835043911138202, 0.032148248526978701]\n",
      "2.34147641746 2.65075298109 225.948594162\n",
      "[0.026615628504216726, 0.059886328145877361, 0.11555658436570967, 0.02835043911138202, 0.032148248526978701]\n",
      "3.71504321898 3.42839975804 153.994601944\n",
      "[0.026615628504216726, 0.059886328145877361, 0.11555658436570967, 0.02835043911138202, 0.032148248526978701]\n",
      "3.28744734135 2.46255692135 198.016122386\n",
      "[0.026615628504216726, 0.059886328145877361, 0.11555658436570967, 0.02835043911138202, 0.032148248526978701]\n",
      "3.40115958599 4.0662232404 153.994601944\n",
      "[0.026615628504216726, 0.059886328145877361, 0.11555658436570967, 0.02835043911138202, 0.032148248526978701]\n",
      "4.6285275157 4.38513498158 153.994601944\n",
      "[0.026615628504216726, 0.059886328145877361, 0.11555658436570967, 0.02835043911138202, 0.032148248526978701]\n",
      "5.11047484513 3.21093082122 224.670824678\n",
      "[0.026615628504216726, 0.059886328145877361, 0.11555658436570967, 0.02835043911138202, 0.032148248526978701]\n",
      "5.27967177843 2.46999124176 44.3776969684\n",
      "[0.026615628504216726, 0.059886328145877361, 0.11555658436570967, 0.02835043911138202, 0.032148248526978701]\n",
      "6.20289708574 3.51778925495 224.670824678\n",
      "[0.026615628504216726, 0.059886328145877361, 0.11555658436570967, 0.02835043911138202, 0.032148248526978701]\n",
      "6.60278414608 3.22291108172 225.948594162\n",
      "[0.026615628504216726, 0.059886328145877361, 0.11555658436570967, 0.02835043911138202, 0.032148248526978701]\n",
      "7.25172709568 3.2036713488 198.016122386\n",
      "[0.026615628504216726, 0.059886328145877361, 0.11555658436570967, 0.02835043911138202, 0.032148248526978701]\n",
      "7.56634456862 3.30954483843 198.016122386\n",
      "[0.026615628504216726, 0.059886328145877361, 0.11555658436570967, 0.02835043911138202, 0.032148248526978701]\n",
      "7.95472098155 6.61751716985 153.994601944\n",
      "[0.026615628504216726, 0.059886328145877361, 0.11555658436570967, 0.02835043911138202, 0.032148248526978701]\n",
      "8.26060454095 6.93642891103 153.994601944\n",
      "[0.026615628504216726, 0.059886328145877361, 0.11555658436570967, 0.02835043911138202, 0.032148248526978701]\n",
      "8.99563820788 3.58050989462 225.948594162\n",
      "[0.026615628504216726, 0.059886328145877361, 0.11555658436570967, 0.02835043911138202, 0.032148248526978701]\n",
      "9.18833508047 3.6520296572 225.948594162\n",
      "[0.026615628504216726, 0.059886328145877361, 0.11555658436570967, 0.02835043911138202, 0.032148248526978701]\n",
      "9.61703511517 4.74522298985 224.670824678\n",
      "[0.026615628504216726, 0.059886328145877361, 0.11555658436570967, 0.02835043911138202, 0.032148248526978701]\n",
      "9.76779969214 4.89865220672 224.670824678\n",
      "[0.026615628504216726, 0.059886328145877361, 0.11555658436570967, 0.02835043911138202, 0.032148248526978701]\n",
      "11.2946425279 3.86658894493 225.948594162\n",
      "[0.026615628504216726, 0.059886328145877361, 0.11555658436570967, 0.02835043911138202, 0.032148248526978701]\n",
      "11.7147460919 3.41764750373 44.3776969684\n",
      "[0.026615628504216726, 0.059886328145877361, 0.11555658436570967, 0.02835043911138202, 0.032148248526978701]\n",
      "12.1575299715 4.00962847009 225.948594162\n",
      "[0.026615628504216726, 0.059886328145877361, 0.11555658436570967, 0.02835043911138202, 0.032148248526978701]\n",
      "12.8696118593 4.36827973479 198.016122386\n",
      "[0.026615628504216726, 0.059886328145877361, 0.11555658436570967, 0.02835043911138202, 0.032148248526978701]\n",
      "13.0347817686 4.15266799525 225.948594162\n",
      "[0.026615628504216726, 0.059886328145877361, 0.11555658436570967, 0.02835043911138202, 0.032148248526978701]\n",
      "13.7669015336 10.1255463228 153.994601944\n",
      "[0.026615628504216726, 0.059886328145877361, 0.11555658436570967, 0.02835043911138202, 0.032148248526978701]\n",
      "14.6698738521 4.68590020369 198.016122386\n",
      "[0.026615628504216726, 0.059886328145877361, 0.11555658436570967, 0.02835043911138202, 0.032148248526978701]\n",
      "13.8305391928 10.7633698052 153.994601944\n",
      "[0.026615628504216726, 0.059886328145877361, 0.11555658436570967, 0.02835043911138202, 0.032148248526978701]\n",
      "14.6962902308 11.0822815464 153.994601944\n",
      "[0.026615628504216726, 0.059886328145877361, 0.11555658436570967, 0.02835043911138202, 0.032148248526978701]\n",
      "15.4512566217 11.4011932876 153.994601944\n",
      "[0.026615628504216726, 0.059886328145877361, 0.11555658436570967, 0.02835043911138202, 0.032148248526978701]\n",
      "16.1229453314 11.7201050288 153.994601944\n",
      "[0.026615628504216726, 0.059886328145877361, 0.11555658436570967, 0.02835043911138202, 0.032148248526978701]\n",
      "15.7112713564 6.73980280908 224.670824678\n",
      "[0.026615628504216726, 0.059886328145877361, 0.11555658436570967, 0.02835043911138202, 0.032148248526978701]\n",
      "15.468842881 12.3579285111 153.994601944\n",
      "[0.026615628504216726, 0.059886328145877361, 0.11555658436570967, 0.02835043911138202, 0.032148248526978701]\n",
      "15.001143675 7.0466612428 224.670824678\n",
      "[0.026615628504216726, 0.059886328145877361, 0.11555658436570967, 0.02835043911138202, 0.032148248526978701]\n",
      "14.7428092876 5.53288812078 198.016122386\n",
      "[0.026615628504216726, 0.059886328145877361, 0.11555658436570967, 0.02835043911138202, 0.032148248526978701]\n",
      "14.541053697 13.3146637347 153.994601944\n",
      "[0.026615628504216726, 0.059886328145877361, 0.11555658436570967, 0.02835043911138202, 0.032148248526978701]\n",
      "14.0914089665 7.50694889339 224.670824678\n",
      "[0.026615628504216726, 0.059886328145877361, 0.11555658436570967, 0.02835043911138202, 0.032148248526978701]\n",
      "13.9762441514 7.66037811025 224.670824678\n",
      "[0.026615628504216726, 0.059886328145877361, 0.11555658436570967, 0.02835043911138202, 0.032148248526978701]\n",
      "13.6552507278 5.15394467136 225.948594162\n",
      "[0.026615628504216726, 0.059886328145877361, 0.11555658436570967, 0.02835043911138202, 0.032148248526978701]\n",
      "13.4472166732 9.42637799395 11.9187507788\n",
      "[0.026615628504216726, 0.059886328145877361, 0.11555658436570967, 0.02835043911138202, 0.032148248526978701]\n",
      "13.0899320308 6.16812905859 198.016122386\n",
      "[0.026615628504216726, 0.059886328145877361, 0.11555658436570967, 0.02835043911138202, 0.032148248526978701]\n",
      "12.5329727077 15.2281341817 153.994601944\n",
      "[0.026615628504216726, 0.059886328145877361, 0.11555658436570967, 0.02835043911138202, 0.032148248526978701]\n",
      "12.4055598533 5.44002372167 225.948594162\n",
      "[0.026615628504216726, 0.059886328145877361, 0.11555658436570967, 0.02835043911138202, 0.032148248526978701]\n",
      "12.0492068403 2.28366218414 83.4792705311\n",
      "[0.026615628504216726, 0.059886328145877361, 0.11555658436570967, 0.02835043911138202, 0.032148248526978701]\n",
      "11.801460731 16.1848694053 153.994601944\n",
      "[0.026615628504216726, 0.059886328145877361, 0.11555658436570967, 0.02835043911138202, 0.032148248526978701]\n",
      "11.4838159632 6.69749650677 198.016122386\n",
      "[0.026615628504216726, 0.059886328145877361, 0.11555658436570967, 0.02835043911138202, 0.032148248526978701]\n",
      "11.1395380728 16.8226928877 153.994601944\n",
      "[0.026615628504216726, 0.059886328145877361, 0.11555658436570967, 0.02835043911138202, 0.032148248526978701]\n",
      "10.8804781255 6.90924348604 198.016122386\n",
      "[0.026615628504216726, 0.059886328145877361, 0.11555658436570967, 0.02835043911138202, 0.032148248526978701]\n",
      "10.621804569 17.46051637 153.994601944\n",
      "[0.026615628504216726, 0.059886328145877361, 0.11555658436570967, 0.02835043911138202, 0.032148248526978701]\n",
      "10.3146708536 5.94066205973 225.948594162\n",
      "[0.026615628504216726, 0.059886328145877361, 0.11555658436570967, 0.02835043911138202, 0.032148248526978701]\n",
      "9.88402324692 6.0121818223 225.948594162\n",
      "[0.026615628504216726, 0.059886328145877361, 0.11555658436570967, 0.02835043911138202, 0.032148248526978701]\n",
      "9.91262456708 9.80838714634 224.670824678\n",
      "[0.026615628504216726, 0.059886328145877361, 0.11555658436570967, 0.02835043911138202, 0.032148248526978701]\n",
      "9.31384451726 6.15522134746 225.948594162\n",
      "[0.026615628504216726, 0.059886328145877361, 0.11555658436570967, 0.02835043911138202, 0.032148248526978701]\n",
      "9.15845953534 10.1152455801 224.670824678\n",
      "[0.026615628504216726, 0.059886328145877361, 0.11555658436570967, 0.02835043911138202, 0.032148248526978701]\n",
      "8.89396751408 19.3739868171 153.994601944\n",
      "[0.026615628504216726, 0.059886328145877361, 0.11555658436570967, 0.02835043911138202, 0.032148248526978701]\n",
      "8.55215725002 2.31417902258 83.4792705311\n",
      "[0.026615628504216726, 0.059886328145877361, 0.11555658436570967, 0.02835043911138202, 0.032148248526978701]\n",
      "8.21354161839 7.86210489276 198.016122386\n",
      "[0.026615628504216726, 0.059886328145877361, 0.11555658436570967, 0.02835043911138202, 0.032148248526978701]\n",
      "7.93291635317 6.51282016036 225.948594162\n",
      "[0.026615628504216726, 0.059886328145877361, 0.11555658436570967, 0.02835043911138202, 0.032148248526978701]\n",
      "7.58735899538 6.33958764482 44.3776969684\n",
      "[0.026615628504216726, 0.059886328145877361, 0.11555658436570967, 0.02835043911138202, 0.032148248526978701]\n",
      "7.45933522319 2.32435130205 83.4792705311\n",
      "[0.026615628504216726, 0.059886328145877361, 0.11555658436570967, 0.02835043911138202, 0.032148248526978701]\n",
      "7.06876760393 11.1892500981 224.670824678\n",
      "[0.026615628504216726, 0.059886328145877361, 0.11555658436570967, 0.02835043911138202, 0.032148248526978701]\n",
      "7.17249363669 6.79889921067 225.948594162\n",
      "[0.026615628504216726, 0.059886328145877361, 0.11555658436570967, 0.02835043911138202, 0.032148248526978701]\n",
      "7.30585727681 11.4961085318 224.670824678\n",
      "[0.026615628504216726, 0.059886328145877361, 0.11555658436570967, 0.02835043911138202, 0.032148248526978701]\n",
      "6.85191698062 8.6032193202 198.016122386\n",
      "[0.026615628504216726, 0.059886328145877361, 0.11555658436570967, 0.02835043911138202, 0.032148248526978701]\n",
      "7.44417766147 7.01345849841 225.948594162\n",
      "[0.026615628504216726, 0.059886328145877361, 0.11555658436570967, 0.02835043911138202, 0.032148248526978701]\n",
      "7.18047004803 6.89238713097 44.3776969684\n",
      "[0.026615628504216726, 0.059886328145877361, 0.11555658436570967, 0.02835043911138202, 0.032148248526978701]\n",
      "7.74520698567 12.1098253993 224.670824678\n",
      "[0.026615628504216726, 0.059886328145877361, 0.11555658436570967, 0.02835043911138202, 0.032148248526978701]\n",
      "7.73961138155 7.22801778615 225.948594162\n",
      "[0.026615628504216726, 0.059886328145877361, 0.11555658436570967, 0.02835043911138202, 0.032148248526978701]\n",
      "7.64848490674 7.29953754873 225.948594162\n",
      "[0.026615628504216726, 0.059886328145877361, 0.11555658436570967, 0.02835043911138202, 0.032148248526978701]\n",
      "8.03481882015 9.23846025802 198.016122386\n",
      "[0.026615628504216726, 0.059886328145877361, 0.11555658436570967, 0.02835043911138202, 0.032148248526978701]\n",
      "7.69531703727 7.44257707389 225.948594162\n",
      "[0.026615628504216726, 0.059886328145877361, 0.11555658436570967, 0.02835043911138202, 0.032148248526978701]\n",
      "7.89886367278 12.8769714836 224.670824678\n",
      "[0.026615628504216726, 0.059886328145877361, 0.11555658436570967, 0.02835043911138202, 0.032148248526978701]\n",
      "8.25838370775 7.44518661712 44.3776969684\n",
      "[0.026615628504216726, 0.059886328145877361, 0.11555658436570967, 0.02835043911138202, 0.032148248526978701]\n",
      "8.25692919012 7.65713636162 225.948594162\n",
      "[0.026615628504216726, 0.059886328145877361, 0.11555658436570967, 0.02835043911138202, 0.032148248526978701]\n",
      "8.37686887908 7.60312932745 44.3776969684\n",
      "[0.026615628504216726, 0.059886328145877361, 0.11555658436570967, 0.02835043911138202, 0.032148248526978701]\n",
      "8.51713824042 7.80017588678 225.948594162\n",
      "[0.026615628504216726, 0.059886328145877361, 0.11555658436570967, 0.02835043911138202, 0.032148248526978701]\n",
      "8.7909558633 9.97957468547 198.016122386\n",
      "[0.026615628504216726, 0.059886328145877361, 0.11555658436570967, 0.02835043911138202, 0.032148248526978701]\n",
      "8.9921525642 13.7975467848 224.670824678\n",
      "[0.026615628504216726, 0.059886328145877361, 0.11555658436570967, 0.02835043911138202, 0.032148248526978701]\n",
      "8.79988096141 8.01473517452 225.948594162\n",
      "[0.026615628504216726, 0.059886328145877361, 0.11555658436570967, 0.02835043911138202, 0.032148248526978701]\n",
      "8.90495053804 14.1044052185 224.670824678\n",
      "[0.026615628504216726, 0.059886328145877361, 0.11555658436570967, 0.02835043911138202, 0.032148248526978701]\n",
      "8.98583586764 8.07695745843 44.3776969684\n",
      "[0.026615628504216726, 0.059886328145877361, 0.11555658436570967, 0.02835043911138202, 0.032148248526978701]\n",
      "8.78561154352 8.22929446225 225.948594162\n",
      "[0.026615628504216726, 0.059886328145877361, 0.11555658436570967, 0.02835043911138202, 0.032148248526978701]\n",
      "9.50600330678 10.6148156233 198.016122386\n",
      "[0.026615628504216726, 0.059886328145877361, 0.11555658436570967, 0.02835043911138202, 0.032148248526978701]\n",
      "9.25263498538 8.37233398741 225.948594162\n",
      "[0.026615628504216726, 0.059886328145877361, 0.11555658436570967, 0.02835043911138202, 0.032148248526978701]\n",
      "9.19397223833 10.8265626025 198.016122386\n",
      "[0.026615628504216726, 0.059886328145877361, 0.11555658436570967, 0.02835043911138202, 0.032148248526978701]\n",
      "9.65335843287 10.9324360922 198.016122386\n",
      "[0.026615628504216726, 0.059886328145877361, 0.11555658436570967, 0.02835043911138202, 0.032148248526978701]\n",
      "10.072613505 8.55078558942 44.3776969684\n",
      "[0.026615628504216726, 0.059886328145877361, 0.11555658436570967, 0.02835043911138202, 0.032148248526978701]\n",
      "10.1305520091 15.3318389534 224.670824678\n",
      "[0.026615628504216726, 0.059886328145877361, 0.11555658436570967, 0.02835043911138202, 0.032148248526978701]\n",
      "10.2120656963 8.72993280031 225.948594162\n",
      "[0.026615628504216726, 0.059886328145877361, 0.11555658436570967, 0.02835043911138202, 0.032148248526978701]\n",
      "10.0313290035 8.80145256289 225.948594162\n",
      "[0.026615628504216726, 0.059886328145877361, 0.11555658436570967, 0.02835043911138202, 0.032148248526978701]\n"
     ]
    }
   ],
   "source": [
    "print(model.sigma)\n",
    "for t in range(90):\n",
    "    print(y[t], sum(model.theta[model.z[t]]*model.x[t]),model.sigma[model.z[t]])\n",
    "    print([model._Gaussian_pdf(y[t],y[t],model.sigma[k]) for k in [0,1,3,4,5]])"
   ]
  },
  {
   "cell_type": "code",
   "execution_count": null,
   "metadata": {
    "collapsed": true
   },
   "outputs": [],
   "source": []
  },
  {
   "cell_type": "code",
   "execution_count": null,
   "metadata": {
    "collapsed": true
   },
   "outputs": [],
   "source": []
  },
  {
   "cell_type": "code",
   "execution_count": null,
   "metadata": {
    "collapsed": true
   },
   "outputs": [],
   "source": []
  }
 ],
 "metadata": {
  "kernelspec": {
   "display_name": "Python 3",
   "language": "python",
   "name": "python3"
  },
  "language_info": {
   "codemirror_mode": {
    "name": "ipython",
    "version": 3
   },
   "file_extension": ".py",
   "mimetype": "text/x-python",
   "name": "python",
   "nbconvert_exporter": "python",
   "pygments_lexer": "ipython3",
   "version": "3.6.1"
  }
 },
 "nbformat": 4,
 "nbformat_minor": 2
}
