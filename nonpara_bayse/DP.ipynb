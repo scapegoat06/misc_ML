{
 "cells": [
  {
   "cell_type": "code",
   "execution_count": 51,
   "metadata": {
    "collapsed": true
   },
   "outputs": [],
   "source": [
    "import numpy as np\n",
    "import matplotlib.pyplot as plt\n",
    "from tqdm import tqdm"
   ]
  },
  {
   "cell_type": "markdown",
   "metadata": {},
   "source": [
    "## G0の定義\n",
    "(続わかパタに準拠）"
   ]
  },
  {
   "cell_type": "code",
   "execution_count": 25,
   "metadata": {},
   "outputs": [],
   "source": [
    "#一回しか回さないので着座したテーブルがなくなるといことがないと過程\n",
    "\n",
    "class DP:\n",
    "    def __init__(self,alpha):\n",
    "        self.alpha = alpha\n",
    "        \n",
    "        self.theta = {}\n",
    "        self.ni = []\n",
    "        self.theta_class = []\n",
    "        self.theta_i = []\n",
    "        \n",
    "        \n",
    "    def sample_from_base(self):\n",
    "        p = np.random.uniform()\n",
    "        new_class = len(self.ni)\n",
    "        \n",
    "        if 0<=p<=2/3:\n",
    "            self.theta[new_class] = np.sqrt(8*p/3)\n",
    "        else:\n",
    "            self.theta[new_class] = 2*(1-np.sqrt((1-p)/3))\n",
    "        \n",
    "        self.ni.append(1)\n",
    "        self.theta_class.append(new_class)\n",
    "        self.theta_i.append(self.theta[new_class])\n",
    "            \n",
    "        \n",
    "        \n",
    "    \n",
    "    def sample_from_emprical(self):\n",
    "        n = len(self.theta)\n",
    "        ni = np.array(self.ni)\n",
    "        p_z = ni/ni.sum()\n",
    "        z = np.random.multinomial(1,p_z).argmax()\n",
    "        \n",
    "        self.ni[z] += 1\n",
    "        self.theta_class.append(z)\n",
    "        self.theta_i.append(self.theta[z])\n",
    "        \n",
    "        \n",
    "        \n",
    "        \n",
    "    def sample_theta(self,n):\n",
    "        threshold = np.random.uniform()\n",
    "        if threshold <= self.alpha/(self.alpha+n-1):\n",
    "            self.sample_from_base()\n",
    "            \n",
    "        else:\n",
    "            self.sample_from_emprical()\n",
    "            \n",
    "            \n",
    "        \n",
    "                       \n",
    "        \n",
    "        \n",
    "            \n",
    "        \n",
    "    "
   ]
  },
  {
   "cell_type": "code",
   "execution_count": 52,
   "metadata": {},
   "outputs": [
    {
     "name": "stderr",
     "output_type": "stream",
     "text": [
      "100%|██████████| 500/500 [00:15<00:00, 31.91it/s]\n"
     ]
    },
    {
     "data": {
      "image/png": "[encoded data removed]",
      "text/plain": [
       "<matplotlib.figure.Figure at 0x11016def0>"
      ]
     },
     "metadata": {},
     "output_type": "display_data"
    }
   ],
   "source": [
    "theta = []\n",
    "for _ in tqdm(range(500)):\n",
    "    dp = DP(100)\n",
    "    for n in range(1,1000):\n",
    "        dp.sample_theta(n)\n",
    "        #print(\"c = {}\".format(len(dp.ni)))\n",
    "    theta+=dp.theta_i\n",
    "plt.hist(theta,bins=50)\n",
    "plt.show()"
   ]
  },
  {
   "cell_type": "code",
   "execution_count": null,
   "metadata": {
    "collapsed": true
   },
   "outputs": [],
   "source": []
  }
 ],
 "metadata": {
  "kernelspec": {
   "display_name": "Python 3",
   "language": "python",
   "name": "python3"
  },
  "language_info": {
   "codemirror_mode": {
    "name": "ipython",
    "version": 3
   },
   "file_extension": ".py",
   "mimetype": "text/x-python",
   "name": "python",
   "nbconvert_exporter": "python",
   "pygments_lexer": "ipython3",
   "version": "3.6.1"
  }
 },
 "nbformat": 4,
 "nbformat_minor": 2
}
