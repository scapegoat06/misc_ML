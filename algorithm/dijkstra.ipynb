{
 "cells": [
  {
   "cell_type": "markdown",
   "metadata": {},
   "source": [
    "# ダイクストラ法の実装　\n",
    "確かqiitaの何かを参考にした。"
   ]
  },
  {
   "cell_type": "code",
   "execution_count": 2,
   "metadata": {
    "collapsed": true
   },
   "outputs": [],
   "source": [
    "import numpy as np\n",
    "n = 5\n",
    "m = 7\n",
    "X = np.zeros((n,n))\n",
    "X[0,1] = 50\n",
    "X[0,2] = 80\n",
    "X[1,2] = 20\n",
    "X[1,3] = 15\n",
    "X[2,3] = 10\n",
    "X[2,4] = 15\n",
    "X[3,4] = 30\n"
   ]
  },
  {
   "cell_type": "code",
   "execution_count": 3,
   "metadata": {},
   "outputs": [
    {
     "name": "stdout",
     "output_type": "stream",
     "text": [
      "-----経路-----\n",
      "5 <- 3 <- 2 <- 1\n",
      "-----距離-----\n",
      "85\n"
     ]
    }
   ],
   "source": [
    "route_list = [[0, 50, 80, 0, 0], [0, 0, 20, 15, 0 ], [0, 0, 0, 10, 15], [0, 0, 0, 0, 30], [0, 0, 0, 0, 0]] # 初期のノード間の距離のリスト\n",
    "node_num = len(route_list) #ノードの数\n",
    "unsearched_nodes = list(range(node_num)) # 未探索ノード\n",
    "distance = [10**9] * node_num # ノードごとの距離のリスト\n",
    "previous_nodes = [-1] * node_num # 最短経路でそのノードのひとつ前に到達するノードのリスト\n",
    "distance[0] = 0 # 初期のノードの距離は0とする\n",
    "\n",
    "def get_target_min_index(min_index, distance, unsearched_nodes):\n",
    "    start = 0\n",
    "    while True:\n",
    "        index = distance.index(min_index, start)\n",
    "        found = index in unsearched_nodes\n",
    "        if found:\n",
    "            return index\n",
    "        else:\n",
    "            start = index + 1\n",
    "\n",
    "while(len(unsearched_nodes) != 0): #未探索ノードがなくなるまで繰り返す\n",
    "    # まず未探索ノードのうちdistanceが最小のものを選択する\n",
    "    posible_min_distance = 10**9 # 最小のdistanceを見つけるための一時的なdistance。初期値は inf に設定。\n",
    "    for node_index in unsearched_nodes: # 未探索のノードのループ\n",
    "        if posible_min_distance > distance[node_index]: \n",
    "            posible_min_distance = distance[node_index] # より小さい値が見つかれば更新\n",
    "    target_min_index = get_target_min_index(posible_min_distance, distance, unsearched_nodes) # 未探索ノードのうちで最小のindex番号を取得\n",
    "    unsearched_nodes.remove(target_min_index) # ここで探索するので未探索リストから除去\n",
    "\n",
    "    target_edge = route_list[target_min_index] # ターゲットになるノードからのびるエッジのリスト\n",
    "    for index, route_dis in enumerate(target_edge):\n",
    "        if route_dis != 0:\n",
    "            if distance[index] > (distance[ target_min_index] + route_dis):\n",
    "                distance[index] = distance[ target_min_index] + route_dis # 過去に設定されたdistanceよりも小さい場合はdistanceを更新\n",
    "                previous_nodes[index] =  target_min_index #　ひとつ前に到達するノードのリストも更新\n",
    "\n",
    "# 以下で結果の表示\n",
    "\n",
    "print(\"-----経路-----\")\n",
    "previous_node = node_num - 1\n",
    "while previous_node != -1:\n",
    "    if previous_node !=0:\n",
    "        print(str(previous_node + 1) + \" <- \", end='')\n",
    "    else:\n",
    "        print(str(previous_node + 1))\n",
    "    previous_node = previous_nodes[previous_node]\n",
    "\n",
    "print(\"-----距離-----\")\n",
    "print(distance[node_num - 1])"
   ]
  },
  {
   "cell_type": "code",
   "execution_count": null,
   "metadata": {
    "collapsed": true
   },
   "outputs": [],
   "source": []
  }
 ],
 "metadata": {
  "kernelspec": {
   "display_name": "Python 3",
   "language": "python",
   "name": "python3"
  },
  "language_info": {
   "codemirror_mode": {
    "name": "ipython",
    "version": 3
   },
   "file_extension": ".py",
   "mimetype": "text/x-python",
   "name": "python",
   "nbconvert_exporter": "python",
   "pygments_lexer": "ipython3",
   "version": "3.6.1"
  }
 },
 "nbformat": 4,
 "nbformat_minor": 2
}
