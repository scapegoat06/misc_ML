{
 "cells": [
  {
   "cell_type": "markdown",
   "metadata": {},
   "source": [
    "# ディガンマ関数の確認"
   ]
  },
  {
   "cell_type": "code",
   "execution_count": 2,
   "metadata": {
    "collapsed": true
   },
   "outputs": [],
   "source": [
    "import scipy.special as ss"
   ]
  },
  {
   "cell_type": "code",
   "execution_count": 6,
   "metadata": {
    "collapsed": true
   },
   "outputs": [],
   "source": [
    "alpha_sum = 0.5"
   ]
  },
  {
   "cell_type": "code",
   "execution_count": 7,
   "metadata": {},
   "outputs": [
    {
     "name": "stdout",
     "output_type": "stream",
     "text": [
      "2.0\n",
      "2.66666666667\n",
      "3.06666666667\n",
      "3.35238095238\n",
      "3.5746031746\n",
      "3.75642135642\n",
      "3.91026751027\n",
      "4.0436008436\n",
      "4.16124790242\n"
     ]
    }
   ],
   "source": [
    "for i in range(1,10):\n",
    "    print(ss.digamma(i+alpha_sum)-ss.digamma(alpha_sum))"
   ]
  },
  {
   "cell_type": "code",
   "execution_count": 8,
   "metadata": {},
   "outputs": [
    {
     "name": "stdout",
     "output_type": "stream",
     "text": [
      "2.0\n",
      "2.6666666666666665\n",
      "3.0666666666666664\n",
      "3.352380952380952\n",
      "3.5746031746031743\n",
      "3.756421356421356\n",
      "3.9102675102675097\n",
      "4.043600843600843\n",
      "4.161247902424372\n"
     ]
    }
   ],
   "source": [
    "currentDigamma = 0\n",
    "for i in range(1,10):\n",
    "    currentDigamma += 1/(alpha_sum+i-1)\n",
    "    print(currentDigamma)"
   ]
  }
 ],
 "metadata": {
  "kernelspec": {
   "display_name": "Python 3",
   "language": "python",
   "name": "python3"
  },
  "language_info": {
   "codemirror_mode": {
    "name": "ipython",
    "version": 3
   },
   "file_extension": ".py",
   "mimetype": "text/x-python",
   "name": "python",
   "nbconvert_exporter": "python",
   "pygments_lexer": "ipython3",
   "version": "3.6.1"
  }
 },
 "nbformat": 4,
 "nbformat_minor": 2
}
