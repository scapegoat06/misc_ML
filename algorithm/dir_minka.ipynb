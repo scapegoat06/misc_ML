{
 "cells": [
  {
   "cell_type": "markdown",
   "metadata": {},
   "source": [
    "# fixed point iterationの確認"
   ]
  },
  {
   "cell_type": "code",
   "execution_count": 3,
   "metadata": {
    "collapsed": true
   },
   "outputs": [],
   "source": [
    "import numpy as np\n",
    "import scipy.special as ss\n",
    "import copy"
   ]
  },
  {
   "cell_type": "code",
   "execution_count": 4,
   "metadata": {
    "collapsed": true
   },
   "outputs": [],
   "source": [
    "def psi(x):\n",
    "    return ss.psi(x)"
   ]
  },
  {
   "cell_type": "code",
   "execution_count": 107,
   "metadata": {},
   "outputs": [],
   "source": [
    "#真値をもとにデータの生成\n",
    "alpha_truth = np.arange(0.1,0.6,0.1)\n",
    "K = len(alpha_truth)\n",
    "M = 50\n",
    "N = 100\n",
    "docs = []\n",
    "ndk = np.zeros((M,K))\n",
    "for d in range(M):\n",
    "    theta = np.random.dirichlet(alpha_truth)\n",
    "    for n in range(N):\n",
    "        z = np.random.multinomial(1,theta).argmax()\n",
    "        ndk[d][z] += 1\n"
   ]
  },
  {
   "cell_type": "code",
   "execution_count": 108,
   "metadata": {},
   "outputs": [
    {
     "data": {
      "text/plain": [
       "array([0.1, 0.2, 0.3, 0.4, 0.5])"
      ]
     },
     "execution_count": 108,
     "metadata": {},
     "output_type": "execute_result"
    }
   ],
   "source": [
    "alpha_truth"
   ]
  },
  {
   "cell_type": "code",
   "execution_count": 109,
   "metadata": {
    "collapsed": true
   },
   "outputs": [],
   "source": [
    "#alphaの学習\n",
    "def update_alpha(alpha):\n",
    "    for _ in range(20):\n",
    "        old_alpha=copy.copy(alpha)\n",
    "        deli =0\n",
    "        alpha0=np.sum(old_alpha[0])\n",
    "        for d in range(M):\n",
    "            deli += psi(np.sum(ndk[d])+alpha0)-psi(alpha0)\n",
    "        nume =np.zeros((1,K))\n",
    "        for d in range(M):\n",
    "            nume += psi(ndk[d]+old_alpha)-psi(old_alpha)\n",
    "        alpha = nume*old_alpha/deli\n",
    "    return alpha"
   ]
  },
  {
   "cell_type": "code",
   "execution_count": 104,
   "metadata": {},
   "outputs": [],
   "source": [
    "alpha = np.ones(K)*1.0\n",
    "alpha_estimated = update_alpha(alpha)"
   ]
  },
  {
   "cell_type": "code",
   "execution_count": 105,
   "metadata": {},
   "outputs": [
    {
     "data": {
      "text/plain": [
       "array([[0.13698953, 0.19298911, 0.36944072, 0.528794  , 0.51820357]])"
      ]
     },
     "execution_count": 105,
     "metadata": {},
     "output_type": "execute_result"
    }
   ],
   "source": [
    "alpha_estimated"
   ]
  },
  {
   "cell_type": "code",
   "execution_count": 106,
   "metadata": {},
   "outputs": [
    {
     "data": {
      "text/plain": [
       "0.15217968287212175"
      ]
     },
     "execution_count": 106,
     "metadata": {},
     "output_type": "execute_result"
    }
   ],
   "source": [
    "np.linalg.norm(alpha_truth-alpha_estimated)"
   ]
  },
  {
   "cell_type": "code",
   "execution_count": null,
   "metadata": {
    "collapsed": true
   },
   "outputs": [],
   "source": []
  }
 ],
 "metadata": {
  "kernelspec": {
   "display_name": "Python 3",
   "language": "python",
   "name": "python3"
  },
  "language_info": {
   "codemirror_mode": {
    "name": "ipython",
    "version": 3
   },
   "file_extension": ".py",
   "mimetype": "text/x-python",
   "name": "python",
   "nbconvert_exporter": "python",
   "pygments_lexer": "ipython3",
   "version": "3.6.1"
  }
 },
 "nbformat": 4,
 "nbformat_minor": 2
}
