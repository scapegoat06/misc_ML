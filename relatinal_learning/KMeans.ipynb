{
 "cells": [
  {
   "cell_type": "code",
   "execution_count": 1,
   "metadata": {
    "collapsed": true
   },
   "outputs": [],
   "source": [
    "import numpy as np\n",
    "import scipy.linalg\n",
    "import networkx as nx\n",
    "import matplotlib.pyplot as plt\n",
    "%matplotlib inline"
   ]
  },
  {
   "cell_type": "code",
   "execution_count": 50,
   "metadata": {},
   "outputs": [
    {
     "name": "stdout",
     "output_type": "stream",
     "text": [
      "34\n"
     ]
    }
   ],
   "source": [
    "with open(\"./data/karate_club/karate_club.txt\",\"r\") as f:\n",
    "    for i,line in enumerate(f):\n",
    "        tmp = line.rstrip(\"\\n\")\n",
    "        if i == 1:\n",
    "            N = int(tmp.split(\" \")[-1])\n",
    "            X = np.zeros((N,N))\n",
    "            print(N)\n",
    "        elif i > 1:\n",
    "            node1,node2 = map(int,tmp.split(\" \"))  \n",
    "            X[node1-1][node2-1] = X[node2-1][node1-1] = 1\n",
    "            "
   ]
  },
  {
   "cell_type": "code",
   "execution_count": 25,
   "metadata": {},
   "outputs": [
    {
     "data": {
      "text/plain": [
       "array([[ 1.,  1.,  1., ...,  1.,  0.,  0.],\n",
       "       [ 1.,  1.,  1., ...,  0.,  0.,  0.],\n",
       "       [ 1.,  1.,  1., ...,  0.,  1.,  0.],\n",
       "       ..., \n",
       "       [ 1.,  0.,  0., ...,  1.,  1.,  1.],\n",
       "       [ 0.,  0.,  1., ...,  1.,  1.,  1.],\n",
       "       [ 0.,  0.,  0., ...,  1.,  1.,  1.]])"
      ]
     },
     "execution_count": 25,
     "metadata": {},
     "output_type": "execute_result"
    }
   ],
   "source": [
    "X"
   ]
  },
  {
   "cell_type": "code",
   "execution_count": 59,
   "metadata": {},
   "outputs": [
    {
     "data": {
      "image/png": "[encoded data removed]",
      "text/plain": [
       "<matplotlib.figure.Figure at 0x11bef6278>"
      ]
     },
     "metadata": {},
     "output_type": "display_data"
    }
   ],
   "source": [
    "def plot_matrix(matrix, clusters=None):\n",
    "    f, ax = plt.subplots(figsize=(10, 10))\n",
    "    plt.pcolor(matrix, cmap=plt.cm.Blues )\n",
    "\n",
    "    if not clusters is None:\n",
    "        clusters_diff = np.r_[[0], np.diff(clusters)]\n",
    "        for i,c in enumerate(clusters_diff):\n",
    "            if c==1:\n",
    "                ax.axhline(i, c=\"grey\") #, linewidth=1)\n",
    "                ax.axvline(i, c=\"grey\")#, linewidth=1)\n",
    "    plt.show()\n",
    "\n",
    "plot_matrix(X)"
   ]
  },
  {
   "cell_type": "code",
   "execution_count": 60,
   "metadata": {},
   "outputs": [
    {
     "name": "stdout",
     "output_type": "stream",
     "text": [
      "24\n",
      "[33, 32, 31, 30, 29, 28, 27, 26, 25, 24, 23, 22, 20, 19, 18, 15, 14, 13, 9, 8, 7, 3, 2, 1, 0, 4, 5, 6, 10, 11, 12, 16, 17, 21]\n"
     ]
    }
   ],
   "source": [
    "from sklearn.cluster import KMeans\n",
    "D = np.diag(np.sum(X,axis=1))\n",
    "L = D-X\n",
    "eigen_value,eigen_vector = scipy.linalg.eigh(L,eigvals=(0,1))\n",
    "\n",
    "kmeans_model = KMeans(n_clusters=2, random_state=10).fit(eigen_vector)\n",
    "\n",
    "# 分類先となったラベルを取得する\n",
    "labels = kmeans_model.labels_\n",
    "\n",
    "index = []\n",
    "cnt = 0\n",
    "for i,label in enumerate(labels):\n",
    "    if label==0:\n",
    "        index = [i] + index\n",
    "        cnt += 1\n",
    "    else:\n",
    "        index = index + [i]\n",
    "print(cnt)\n",
    "\n",
    "X_sorted = np.zeros((N,N))\n",
    "print(index)\n",
    "for j,id in enumerate(index):\n",
    "    X_sorted[j,:] = X[id,:]\n",
    "\n",
    "\n",
    "        "
   ]
  },
  {
   "cell_type": "code",
   "execution_count": 63,
   "metadata": {},
   "outputs": [
    {
     "data": {
      "image/png": "[encoded data removed]",
      "text/plain": [
       "<matplotlib.figure.Figure at 0x1199c7748>"
      ]
     },
     "metadata": {},
     "output_type": "display_data"
    }
   ],
   "source": [
    "plot_matrix(X,labels)"
   ]
  },
  {
   "cell_type": "code",
   "execution_count": null,
   "metadata": {
    "collapsed": true
   },
   "outputs": [],
   "source": []
  }
 ],
 "metadata": {
  "kernelspec": {
   "display_name": "Python 3",
   "language": "python",
   "name": "python3"
  },
  "language_info": {
   "codemirror_mode": {
    "name": "ipython",
    "version": 3
   },
   "file_extension": ".py",
   "mimetype": "text/x-python",
   "name": "python",
   "nbconvert_exporter": "python",
   "pygments_lexer": "ipython3",
   "version": "3.6.1"
  }
 },
 "nbformat": 4,
 "nbformat_minor": 2
}
