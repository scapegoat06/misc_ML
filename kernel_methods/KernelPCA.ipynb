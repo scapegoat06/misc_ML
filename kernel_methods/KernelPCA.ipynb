{
 "cells": [
  {
   "cell_type": "code",
   "execution_count": 175,
   "metadata": {
    "collapsed": true
   },
   "outputs": [],
   "source": [
    "import numpy as np\n",
    "import matplotlib.pyplot as plt"
   ]
  },
  {
   "cell_type": "code",
   "execution_count": 183,
   "metadata": {
    "collapsed": true
   },
   "outputs": [],
   "source": [
    "#カーネル関数\n",
    "#def kernel(x,y):\n",
    "#    return np.exp(-(np.linalg.norm(x-y))**2/1.0**2)\n",
    "\n",
    "def kernel(x,y):\n",
    "    return (np.dot(x,y) + 2.0)**2"
   ]
  },
  {
   "cell_type": "code",
   "execution_count": 184,
   "metadata": {},
   "outputs": [],
   "source": [
    "n_sample = 100\n",
    "X = []\n",
    "for i in range(n_sample):\n",
    "    X.append(np.random.normal(0,0.5,2))\n",
    "for i in range(n_sample):\n",
    "    tmp = np.random.uniform(-1,1)\n",
    "    X.append(np.array([5*tmp,np.sqrt(25-(5*tmp)**2)])+np.random.normal(0,0.5,2))\n",
    "\n",
    "X = np.array(X)\n",
    "#np.random.shuffle(X)"
   ]
  },
  {
   "cell_type": "code",
   "execution_count": 185,
   "metadata": {},
   "outputs": [
    {
     "data": {
      "image/png": "[encoded data removed]",
      "text/plain": [
       "<matplotlib.figure.Figure at 0x11d9abb38>"
      ]
     },
     "metadata": {},
     "output_type": "display_data"
    }
   ],
   "source": [
    "plt.plot(X[:,0][:100],X[:,1][:100],\"o\",color=\"red\")\n",
    "plt.plot(X[:,0][100:],X[:,1][100:],\"x\",color=\"blue\")\n",
    "\n",
    "\n",
    "plt.show()"
   ]
  },
  {
   "cell_type": "code",
   "execution_count": 186,
   "metadata": {},
   "outputs": [],
   "source": [
    "# kernel matrix\n",
    "N=200\n",
    "K = np.zeros((N,N))\n",
    "for i in range(N):\n",
    "    for j in range(i,N):\n",
    "        K[i,j] = K[j,i] = kernel(X[i], X[j])\n",
    "\n",
    "K_ = np.zeros((N,N))\n",
    "for i in range(N):\n",
    "    for j in range(i,N):\n",
    "        K_[i,j] = K_[j,i] = K[i,j]+np.mean(K)-(np.mean(K[i:,])+np.mean(K[:,j]))\n",
    "\n",
    "\n",
    "# centered kernel matrix\n",
    "#ones = np.mat(np.ones((N,N))) / N\n",
    "#K = K - ones * K - K * ones + ones * K * ones"
   ]
  },
  {
   "cell_type": "code",
   "execution_count": 187,
   "metadata": {
    "collapsed": true
   },
   "outputs": [],
   "source": [
    "#固有値分解\n",
    "w,v = np.linalg.eig(K_) #w固有値、固有ベクトル"
   ]
  },
  {
   "cell_type": "code",
   "execution_count": 188,
   "metadata": {},
   "outputs": [],
   "source": [
    "ind = w.argsort()[::-1]\n",
    "x1 = ind[0]\n",
    "x2 = ind[1]\n",
    "eta1 = w[x1]**0.5\n",
    "eta2 = w[x2]**0.5"
   ]
  },
  {
   "cell_type": "code",
   "execution_count": 189,
   "metadata": {},
   "outputs": [
    {
     "data": {
      "image/png": "[encoded data removed]",
      "text/plain": [
       "<matplotlib.figure.Figure at 0x11e0b70f0>"
      ]
     },
     "metadata": {},
     "output_type": "display_data"
    }
   ],
   "source": [
    "for i in range(200):\n",
    "    if i<100:\n",
    "        plt.plot(eta1*v[i,x1],eta2*v[i,x2],\"o\",color=\"red\")\n",
    "    else:\n",
    "        plt.plot(eta1*v[i,x1],eta2*v[i,x2],\"x\",color=\"blue\")\n",
    "plt.show()"
   ]
  },
  {
   "cell_type": "code",
   "execution_count": null,
   "metadata": {
    "collapsed": true
   },
   "outputs": [],
   "source": []
  },
  {
   "cell_type": "code",
   "execution_count": null,
   "metadata": {
    "collapsed": true
   },
   "outputs": [],
   "source": []
  }
 ],
 "metadata": {
  "kernelspec": {
   "display_name": "Python 3",
   "language": "python",
   "name": "python3"
  },
  "language_info": {
   "codemirror_mode": {
    "name": "ipython",
    "version": 3
   },
   "file_extension": ".py",
   "mimetype": "text/x-python",
   "name": "python",
   "nbconvert_exporter": "python",
   "pygments_lexer": "ipython3",
   "version": "3.6.1"
  }
 },
 "nbformat": 4,
 "nbformat_minor": 2
}
